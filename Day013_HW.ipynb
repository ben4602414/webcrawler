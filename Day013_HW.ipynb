{
 "cells": [
  {
   "cell_type": "markdown",
   "metadata": {},
   "source": [
    "# PTT 網路爬蟲實作練習\n",
    "\n",
    "\n",
    "* 能夠利用 Request + BeatifulSour 撰寫爬蟲，並存放到合適的資料結構\n"
   ]
  },
  {
   "cell_type": "markdown",
   "metadata": {},
   "source": [
    "## 作業目標\n",
    "\n",
    "根據範例 ，完成以下問題：\n",
    "\n",
    "* ① 印出最新文章的「作者」「標題」「時間」\n",
    "* ② 印出第一頁所有文章的「作者」「標題」「時間」\n"
   ]
  },
  {
   "cell_type": "markdown",
   "metadata": {},
   "source": [
    "### ① 印出最新文章的「作者」「標題」「時間」"
   ]
  },
  {
   "cell_type": "code",
   "execution_count": 10,
   "metadata": {},
   "outputs": [
    {
     "name": "stdout",
     "output_type": "stream",
     "text": [
      "標題: [情報] Nash:籃網目前沒有計畫將訓練移到別地進行\n",
      "作者: VeryGoodBoy (很棒的男孩)\n",
      "時間: Wed Oct  6 08:26:25 2021\n"
     ]
    }
   ],
   "source": [
    "import requests\n",
    "from bs4 import BeautifulSoup\n",
    "\n",
    "url = 'https://www.ptt.cc/bbs/NBA/index.html'\n",
    "r = requests.get(url)\n",
    "\n",
    "soup = BeautifulSoup(r.text, \"html5lib\")\n",
    "\n",
    "d = soup.find(class_=\"title\")\n",
    "print('標題: ' + d.text.replace(\"\\t\",'').replace('\\n',''))\n",
    "#進入分頁爬取資料\n",
    "r = BeautifulSoup(requests.get('https://www.ptt.cc'+d.find('a')['href']).text, \"html5lib\")\n",
    "print('作者: ' + r.find(class_='article-meta-value').text)\n",
    "print('時間: ' + r.find_all(class_='article-meta-value')[3].text)\n"
   ]
  },
  {
   "cell_type": "markdown",
   "metadata": {},
   "source": [
    "### ② 印出第一頁所有文章的「作者」「標題」「時間」"
   ]
  },
  {
   "cell_type": "code",
   "execution_count": 11,
   "metadata": {},
   "outputs": [
    {
     "name": "stdout",
     "output_type": "stream",
     "text": [
      "[情報] Nash:籃網目前沒有計畫將訓練移到別地進行\n",
      "作者: VeryGoodBoy (很棒的男孩)\n",
      "時間: Wed Oct  6 08:26:25 2021\n",
      "[花邊] Pau Gasol在退休儀式中哽咽提及Kobe\n",
      "作者: Wojnarowski (@wojespn)\n",
      "時間: Wed Oct  6 08:54:49 2021\n",
      "[BOX ] Pacers 104:125 Knicks (Preseason)\n",
      "[BOX ] Cavaliers 95:131 Bulls (Preseason)\n",
      "[花邊] KT在ig秀出在海邊練棍法\n",
      "作者: yong88123 (欸不是你聽我說)\n",
      "時間: Wed Oct  6 10:55:57 2021\n",
      "[BOX ] Bucks 77:87 Grizzlies (Preseason)\n",
      "[公告] 水桶*16警告*2分身*1不罰*34盧品青醜一\n",
      "作者: pneumo (超☆冒險蓋)\n",
      "時間: Wed Oct  6 11:34:55 2021\n",
      "[BOX ] Wizards 119:125 Rockets (Preseason)\n",
      "[花邊] Ben Simmons 出售費城公寓 售價310萬美金\n",
      "作者: thnlkj0665 (灰色地帶)\n",
      "時間: Wed Oct  6 12:49:02 2021\n",
      "[花邊] 西門的代表與球員工會談36萬罰款，後者\n",
      "作者: arod1414 (Kawhi Leonard頭號粉絲)\n",
      "時間: Wed Oct  6 13:03:43 2021\n",
      "[情報] 多則消息\n",
      "作者: love1500274 (CoWuCoWu)\n",
      "時間: Wed Oct  6 13:05:33 2021\n",
      "[公告] 板規v8.6\n",
      "[公告] NBA板救濟專案啟動 & 借用板主位置\n",
      "作者: Vedan (百鬼組-味丹)\n",
      "時間: Thu Jul 22 00:01:56 2021\n",
      "[情報] 2021-22 自由市場 開市總整理   (9/3)\n",
      "[情報] 2021-22 自由市場 球隊異動表格 (9/3)\n",
      "[情報] 季前熱身賽賽程 21–22\n",
      "作者: laptic (靜夜聖林彼岸花)\n",
      "時間: Mon Sep 27 09:45:07 2021\n"
     ]
    }
   ],
   "source": [
    "import requests\n",
    "from bs4 import BeautifulSoup\n",
    "\n",
    "url = 'https://www.ptt.cc/bbs/NBA/index.html'\n",
    "r = requests.get(url)\n",
    "\n",
    "soup = BeautifulSoup(r.text, \"html5lib\")\n",
    "\n",
    "for d in soup.find_all(class_=\"title\"):\n",
    "    print(d.text.replace(\"\\t\",'').replace('\\n',''))\n",
    "    try:\n",
    "        r = BeautifulSoup(requests.get('https://www.ptt.cc'+d.find('a')['href']).text, \"html5lib\")\n",
    "        print('作者: ' + r.find(class_='article-meta-value').text)\n",
    "        print('時間: ' + r.find_all(class_='article-meta-value')[3].text)\n",
    "    except:\n",
    "        continue"
   ]
  },
  {
   "cell_type": "markdown",
   "metadata": {},
   "source": [
    "### ③ 試著爬爬看其他版的文章"
   ]
  },
  {
   "cell_type": "code",
   "execution_count": 13,
   "metadata": {},
   "outputs": [
    {
     "name": "stdout",
     "output_type": "stream",
     "text": [
      "[心得] 三口開獎\n",
      "作者: jirry901 (jirry)\n",
      "時間: Wed Oct  6 09:29:51 2021\n",
      "[請益] offer 請益\n",
      "作者: cara4966 (888)\n",
      "時間: Wed Oct  6 10:40:33 2021\n",
      "[請益] offer肉鬆\n",
      "作者: shihk1837 (shih1837)\n",
      "時間: Wed Oct  6 10:46:29 2021\n",
      "(已被mmkntust刪除) <s053845> 版規一\n",
      "[討論] 出差入境德國問題\n",
      "作者: s053845 (blz)\n",
      "時間: Wed Oct  6 15:20:52 2021\n",
      "[公告] Tech_Job板板規 2014.03.01\n",
      "作者: mmkntust (Blue Bleaching)\n",
      "時間: Sat Mar  1 11:55:32 2014\n",
      "[公告] 置底 檢舉/推薦 文章\n",
      "作者: mmkntust (老王廚房)\n",
      "時間: Sun Sep  7 11:54:29 2014\n",
      "[公告] 如何消除退文 轉自Ask板\n",
      "作者: mmkntust (老王廚房)\n",
      "時間: Mon Mar  2 11:59:48 2015\n",
      "[情報] 律師為您解惑，免費勞動法問題諮詢服務\n",
      "作者: pzs ()\n",
      "時間: Thu Feb 14 14:06:29 2019\n",
      "[情報] 薪資查詢平台\n",
      "作者: mmkntust (E=mc2)\n",
      "時間: Tue Mar 31 09:40:40 2020\n"
     ]
    }
   ],
   "source": [
    "#Tech_job\n",
    "import requests\n",
    "from bs4 import BeautifulSoup\n",
    "\n",
    "url = 'https://www.ptt.cc/bbs/Tech_Job/index.html'\n",
    "r = requests.get(url)\n",
    "\n",
    "soup = BeautifulSoup(r.text, \"html5lib\")\n",
    "\n",
    "for d in soup.find_all(class_=\"title\"):\n",
    "    print(d.text.replace(\"\\t\",'').replace('\\n',''))\n",
    "    try:\n",
    "        r = BeautifulSoup(requests.get('https://www.ptt.cc'+d.find('a')['href']).text, \"html5lib\")\n",
    "        print('作者: ' + r.find(class_='article-meta-value').text)\n",
    "        print('時間: ' + r.find_all(class_='article-meta-value')[3].text)\n",
    "    except:\n",
    "        continue"
   ]
  },
  {
   "cell_type": "code",
   "execution_count": null,
   "metadata": {},
   "outputs": [],
   "source": []
  }
 ],
 "metadata": {
  "kernelspec": {
   "display_name": "Python 3",
   "language": "python",
   "name": "python3"
  },
  "language_info": {
   "codemirror_mode": {
    "name": "ipython",
    "version": 3
   },
   "file_extension": ".py",
   "mimetype": "text/x-python",
   "name": "python",
   "nbconvert_exporter": "python",
   "pygments_lexer": "ipython3",
   "version": "3.8.8"
  }
 },
 "nbformat": 4,
 "nbformat_minor": 2
}
