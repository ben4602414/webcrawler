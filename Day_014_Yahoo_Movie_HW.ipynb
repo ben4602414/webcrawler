{
 "cells": [
  {
   "cell_type": "markdown",
   "metadata": {},
   "source": [
    "# YAHOO電影爬蟲練習\n",
    "## 練習爬取電影放映資訊。必須逐步獲取電影的代號、放映地區、放映日期後，再送出查詢給伺服器。"
   ]
  },
  {
   "cell_type": "code",
   "execution_count": 2,
   "metadata": {},
   "outputs": [],
   "source": [
    "import requests\n",
    "import re\n",
    "from bs4 import BeautifulSoup"
   ]
  },
  {
   "cell_type": "markdown",
   "metadata": {},
   "source": [
    "### 先搜尋全部的電影代號(ID)資訊"
   ]
  },
  {
   "cell_type": "code",
   "execution_count": 3,
   "metadata": {},
   "outputs": [
    {
     "name": "stdout",
     "output_type": "stream",
     "text": [
      "Movie: 攔截聲命線, ID: 11535\n",
      "Movie: 倒楣性愛和瘋狂Ａ片, ID: 11530\n",
      "Movie: 龍與雀斑公主, ID: 11525\n",
      "Movie: 大眾情人之死, ID: 11520\n",
      "Movie: 四個好日子, ID: 11516\n",
      "Movie: 麵包超人電影版：軟綿綿與雲之國, ID: 11496\n",
      "Movie: 鱷魚, ID: 11468\n",
      "Movie: 寶貝老闆：家大業大, ID: 11084\n",
      "Movie: 殺手保鑣2, ID: 10441\n",
      "Movie: 不容易的爸爸, ID: 11543\n",
      "Movie: 機動戰士鋼彈 劇場版, ID: 11534\n",
      "Movie: 殺手寓言：殺手不殺人, ID: 11529\n",
      "Movie: 狼的孩子雨和雪, ID: 11523\n",
      "Movie: 奇蹟：給總統的一封信, ID: 11513\n",
      "Movie: 大象與蝴蝶, ID: 11505\n",
      "Movie: 逃出奧斯威辛, ID: 11501\n",
      "Movie: 跨越大西洋的戀人, ID: 11499\n",
      "Movie: 霹靂油俠, ID: 11494\n",
      "Movie: 鬼同你住, ID: 11461\n",
      "Movie: 手塚治虫之大都會, ID: 11399\n",
      "Movie: 007生死交戰, ID: 10406\n",
      "Movie: Fate/Grand Order-神聖圓桌領域卡美洛-Paladin; Agateram, ID: 11532\n",
      "Movie: 蠟筆小新：謎案！天下春日部學院的怪奇事件, ID: 11506\n",
      "Movie: 彩虹小馬：活力新生代, ID: 11503\n",
      "Movie: 金錢帝國：追虎擒龍, ID: 11497\n",
      "Movie: 醬狗, ID: 11488\n",
      "Movie: 鬼把戲, ID: 11484\n",
      "Movie: 高玩殺手, ID: 11482\n",
      "Movie: 逃出摩加迪休, ID: 11457\n",
      "Movie: 疾凍救援, ID: 11406\n",
      "Movie: 綠色牢籠, ID: 11244\n",
      "Movie: 影子背後, ID: 11510\n",
      "Movie: 抓狂演訓班, ID: 11485\n",
      "Movie: 吸血鬼獵人D, ID: 11483\n",
      "Movie: 汪汪隊立大功電影版, ID: 11411\n",
      "Movie: 密弒遊戲2：勝者危亡, ID: 11408\n",
      "Movie: 沙丘, ID: 10633\n",
      "Movie: 東京復仇者, ID: 11462\n",
      "Movie: 女畫家與偷畫賊, ID: 11271\n",
      "Movie: 糖果人, ID: 10549\n",
      "Movie: 天坑, ID: 11456\n",
      "Movie: 回憶三部曲, ID: 11451\n",
      "Movie: 疾厄, ID: 11430\n",
      "Movie: 尚氣與十環傳奇, ID: 11374\n",
      "Movie: 薩滿, ID: 11454\n",
      "Movie: 噤界II, ID: 10435\n",
      "Movie: 摯愛之路, ID: 11440\n",
      "Movie: 追憶人, ID: 11410\n",
      "Movie: 脫稿玩家, ID: 11445\n",
      "Movie: 玩命關頭9, ID: 10482\n",
      "Movie: 詭老, ID: 11409\n",
      "Movie: 手捲煙, ID: 11424\n",
      "Movie: 厲陰宅3：是惡魔逼我的, ID: 11376\n",
      "Movie: 迴憶, ID: 11345\n",
      "Movie: 死亡漩渦：奪魂鋸新遊戲, ID: 11311\n",
      "Movie: 那些要我死的人, ID: 11347\n",
      "Movie: 大獵逃, ID: 11312\n",
      "Movie: 電影版 嬌妻出沒注意, ID: 11309\n",
      "Movie: 夢想之地, ID: 11306\n",
      "Movie: 藥命交錯, ID: 11330\n",
      "Movie: 真人快打, ID: 11254\n",
      "Movie: 哥吉拉大戰金剛, ID: 11215\n",
      "Movie: 游牧人生, ID: 11221\n",
      "Movie: 太陽不會動, ID: 11196\n",
      "Movie: 尋龍使者：拉雅, ID: 11219\n",
      "Movie: 殺手保鑣, ID: 6873\n"
     ]
    }
   ],
   "source": [
    "# 查看目前上映那些電影，並擷取出其ID資訊\n",
    "url = 'https://movies.yahoo.com.tw/'\n",
    "resp = requests.get(url)\n",
    "resp.encoding = 'utf-8'\n",
    "\n",
    "soup = BeautifulSoup(resp.text, 'lxml')\n",
    "html = soup.find(\"select\", attrs={'name':'movie_id'})\n",
    "movie_item = html.find_all(\"option\", attrs={'data-name':re.compile('.*')})\n",
    "\n",
    "for p in movie_item:\n",
    "    print(\"Movie: %s, ID: %s\" % (p[\"data-name\"], p[\"value\"]))"
   ]
  },
  {
   "cell_type": "markdown",
   "metadata": {},
   "source": [
    "### 指定你有興趣的電影其ID，然後查詢其放映地區資訊。"
   ]
  },
  {
   "cell_type": "code",
   "execution_count": 4,
   "metadata": {},
   "outputs": [],
   "source": [
    "# 參考前一個步驟中擷取到的ID資訊，並指定ID\n",
    "movie_id = 11506"
   ]
  },
  {
   "cell_type": "code",
   "execution_count": 5,
   "metadata": {},
   "outputs": [
    {
     "name": "stdout",
     "output_type": "stream",
     "text": [
      "放映地區: 台北市, 代號(area_id): 28\n",
      "放映地區: 新北市, 代號(area_id): 8\n",
      "放映地區: 桃園, 代號(area_id): 16\n",
      "放映地區: 新竹, 代號(area_id): 20\n",
      "放映地區: 苗栗, 代號(area_id): 15\n",
      "放映地區: 台中, 代號(area_id): 2\n",
      "放映地區: 嘉義, 代號(area_id): 21\n",
      "放映地區: 台南, 代號(area_id): 10\n",
      "放映地區: 高雄, 代號(area_id): 17\n",
      "放映地區: 基隆, 代號(area_id): 18\n",
      "放映地區: 花蓮, 代號(area_id): 12\n"
     ]
    }
   ],
   "source": [
    "url = 'https://movies.yahoo.com.tw/api/v1/areas_by_movie_theater'\n",
    "payload = {'movie_id':str(movie_id)}\n",
    "\n",
    "# 模擬一個header\n",
    "headers = {\n",
    "    'authority': 'movies.yahoo.com.tw',\n",
    "    'method': 'GET',\n",
    "    'path': '/api/v1/areas_by_movie_theater?movie_id=' + str(movie_id),\n",
    "    'scheme': 'https',\n",
    "    'accept': 'application/json, text/javascript, */*; q=0.01',\n",
    "    'accept-encoding': 'gzip, deflate, br',\n",
    "    'accept-language': 'zh-TW,zh;q=0.9,en-US;q=0.8,en;q=0.7,zh-CN;q=0.6',\n",
    "    'cookie': 'rxx=9s3x2fws06.1g16irnc&v=1; _ga=GA1.3.2056742944.1551651301; GUC=AQEBAQFczFpdm0IfmwSB&s=AQAAACoo4N5D&g=XMsVBw; BX=4hkdk1decm57t&b=3&s=mr; _ga=GA1.4.2056742944.1551651301; nexagesuid=82843256dd234e8e91aa73f2062f8218; browsed_movie=eyJpdiI6IlJXWWtiSWJaZlNGK2MxQnhscnVUYWc9PSIsInZhbHVlIjoiMXRhMmVHRXRIeUNjc1RBWDJzdGYwbnlIQURmWGsrcjJSMzhkbkcraDNJVUNIZEZsbzU3amlFcVZ1NzlmazJrTGpoMjVrbHk1YmpoRENXaHZTOUw1TmI2ZTZVWHdOejZQZm16RmVuMWlHTTJLaTZLVFZZVkFOMDlTd1wvSGltcytJIiwibWFjIjoiZWQ2ZjA4MmVjZmZlYjlmNjJmYmY2NGMyMDI0Njc0NWViYjVkOWE2NDg0N2RhODMxZjBjZDhiMmJhZTc2MDZhYiJ9; avi=eyJpdiI6Im1NeWFJRlVRWDR1endEcGRGUGJUbVE9PSIsInZhbHVlIjoickRpU3JuUytmcGl6cjF5OW0rNU9iZz09IiwibWFjIjoiY2VmY2NkNzZmM2NhNjY5YzlkOTcyNjE5OGEyMzU0NWYxOTdmMDRkMDY3OWNmMmZjOTMxYjc5MjI5N2Q5NGE5MiJ9; cmp=t=1559391030&j=0; _gid=GA1.4.779543841.1559391031; XSRF-TOKEN=eyJpdiI6IkhpS2hGcDRQaHlmWUJmaHdSS2Q2bHc9PSIsInZhbHVlIjoiOUVoNFk4OHI1UUZmUWRtYXhza0MyWjJSTlhlZ3RnT0VGeVJPN2JuczVRMGRFdWt2OUlsamVKeHRobFwvcHBGM0dhU3VyMXNGTHlsb2dVM2l0U1hpUGxBPT0iLCJtYWMiOiJkZWU4YzJhNjAxMTY3MzE4Y2ExNWIxYmE1ZjE1YWZlZTlhOTcyYjc4M2RlZGY4ZWNjZDYyMTA2NGYwZGViMzc2In0%3D; m_s=eyJpdiI6InpsZHZ2Tk1BZ0dxaHhETml1RjBnUXc9PSIsInZhbHVlIjoiSkNGeHUranRoXC85bDFiaDhySTJqNkJRcWdjWUxjeVRJSHVYZ1wvd2d4bWJZUTUrSHVDM0lUcW5KNHdETFZ4T1lieU81OUhzc1VoUXhZcWk0UDZSQXVFdz09IiwibWFjIjoiYmJkMDJkMDhlODIzMzcyMWY4M2NmYWNjNGVlOWRjMDIwZmVmNzAyMjE3Yzg3ZGY3ODBkZWEzZTI4MTI5ZWNmOSJ9; _gat=1; nexagesd=10',\n",
    "    'dnt': '1',\n",
    "    'mv-authorization': '21835b082e15b91a69b3851eec7b31b82ce82afb',\n",
    "    'referer': 'https://movies.yahoo.com.tw/',\n",
    "    'user-agent': 'Mozilla/5.0 (Windows NT 10.0; Win64; x64) AppleWebKit/537.36 (KHTML, like Gecko) Chrome/74.0.3729.169 Safari/537.36',\n",
    "    'x-requested-with': 'XMLHttpRequest',\n",
    "}\n",
    "    \n",
    "resp = requests.get(url, params=payload, headers=headers)\n",
    "#print(resp.json())  # 若有需要，列印出json原始碼\n",
    "\n",
    "# 這裡回傳的格式是JSON格式的資料，要解析JSON擷取資料\n",
    "for p in resp.json():\n",
    "    print('放映地區: {0}, 代號(area_id): {1}'.format(p['title'], p['area_id']))"
   ]
  },
  {
   "cell_type": "markdown",
   "metadata": {},
   "source": [
    "### 指定你想要觀看的放映地區，查詢有上映電影的場次日期"
   ]
  },
  {
   "cell_type": "code",
   "execution_count": 6,
   "metadata": {},
   "outputs": [],
   "source": [
    "# 指定放映地區\n",
    "area_id = 28"
   ]
  },
  {
   "cell_type": "code",
   "execution_count": 7,
   "metadata": {},
   "outputs": [
    {
     "name": "stdout",
     "output_type": "stream",
     "text": [
      "十月 12\n",
      "十月 13\n",
      "十月 14\n",
      "十月 15\n",
      "十月 16\n"
     ]
    }
   ],
   "source": [
    "# 向網站發送請求\n",
    "url = 'https://movies.yahoo.com.tw/movietime_result.html'\n",
    "payload = {'movie_id':str(movie_id), 'area_id':str(area_id)}\n",
    "resp = requests.get(url, params=payload)\n",
    "resp.encoding = 'utf-8'\n",
    "\n",
    "soup = BeautifulSoup(resp.text, 'lxml')\n",
    "movie_date = soup.find_all(\"label\", attrs={'for':re.compile(\"date_[\\d]\")})\n",
    "\n",
    "# 列印播放日期\n",
    "for date in movie_date:\n",
    "    print(\"%s %s\" % (date.p.string, date.h3.string))"
   ]
  },
  {
   "cell_type": "markdown",
   "metadata": {},
   "source": [
    "### 最後指定觀看的日期，查詢並列印出放映的電影院、放映類型(數位、3D、IMAX 3D...)、放映時間等資訊。"
   ]
  },
  {
   "cell_type": "code",
   "execution_count": 8,
   "metadata": {},
   "outputs": [],
   "source": [
    "# 選定要觀看的日期\n",
    "date = \"2021-10-13\""
   ]
  },
  {
   "cell_type": "code",
   "execution_count": 9,
   "metadata": {},
   "outputs": [
    {
     "name": "stdout",
     "output_type": "stream",
     "text": [
      "[<ul class=\"area_time _c jq_area_time\" data-theater_name=\"台北美麗華大直影城\" data-theater_schedules=\"https://movies.yahoo.com.tw/theater_result.html/id=32\" data-theater_url=\"http://www.miramarcinemas.tw/\" id=\"theater_id_32\">\n",
      "<li class=\"adds\">\n",
      "<a href=\"https://movies.yahoo.com.tw/theater_result.html/id=32\">台北美麗華大直影城</a>\n",
      "<span>02-85022208</span>\n",
      "</li>\n",
      "<li class=\"taps\">\n",
      "<span class=\"tapR\">數位</span> <span class=\"tapB\">中文</span> </li>\n",
      "<li class=\"time _c\">\n",
      "<div class=\"input_picker jq_input_picker\">\n",
      "<input class=\"gabtn\" data-cinema=\"40288eb0050f31210ada0f55676b1bbc\" data-date=\"1634054400\" data-ezding=\"ezding\" data-ga=\"['電影頁_時刻表', '電影頁_時刻表_場次', '蠟筆小新：謎案！天下春日部學院的怪奇事件']\" data-movie=\"add91e9fa0dc48b9bd45b23249c54900\" data-movie_date=\"10.13\" data-movie_time=\"09:10\" data-movie_title=\"蠟筆小新：謎案！天下春日部學院的怪奇事件\" data-movie_type=\"數位\" data-session=\"74d1c814cd734cbeb09db4fdbcb0e202\" data-time=\"1634087400\" id=\"75919500\" name=\"schedule_list\" type=\"radio\" value=\"2021-10-13 09:10:00\"/>\n",
      "<label class=\"select\" for=\"75919500\">09:10</label>\n",
      "</div>\n",
      "</li>\n",
      "</ul>, <ul class=\"area_time _c jq_area_time\" data-theater_name=\"喜滿客絕色影城\" data-theater_schedules=\"https://movies.yahoo.com.tw/theater_result.html/id=42\" data-theater_url=\"http://www.cinema7.com.tw/\" id=\"theater_id_42\">\n",
      "<li class=\"adds\">\n",
      "<a href=\"https://movies.yahoo.com.tw/theater_result.html/id=42\">喜滿客絕色影城</a>\n",
      "<span>02-23811339</span>\n",
      "</li>\n",
      "<li class=\"taps\">\n",
      "<span class=\"tapR\">數位</span> </li>\n",
      "<li class=\"time _c\">\n",
      "<div class=\"input_picker jq_input_picker\">\n",
      "<input class=\"gabtn\" data-cinema=\"40288eb0050f542401050f55532606b5\" data-date=\"1634054400\" data-ezding=\"ezding\" data-ga=\"['電影頁_時刻表', '電影頁_時刻表_場次', '蠟筆小新：謎案！天下春日部學院的怪奇事件']\" data-movie=\"a5eaf56ff7c2480392c5efe775648eb5\" data-movie_date=\"10.13\" data-movie_time=\"10:20\" data-movie_title=\"蠟筆小新：謎案！天下春日部學院的怪奇事件\" data-movie_type=\"數位\" data-session=\"fa403f50f7a7489f92d56e0e233510e0\" data-time=\"1634091600\" id=\"75922849\" name=\"schedule_list\" type=\"radio\" value=\"2021-10-13 10:20:00\"/>\n",
      "<label class=\"select\" for=\"75922849\">10:20</label>\n",
      "</div>\n",
      "</li>\n",
      "<li class=\"taps\">\n",
      "<span class=\"tapR\"></span> <span class=\"tapB\">中文</span> </li>\n",
      "<li class=\"time _c\">\n",
      "<div class=\"input_picker jq_input_picker\">\n",
      "<input class=\"gabtn\" data-cinema=\"40288eb0050f542401050f55532606b5\" data-date=\"1634054400\" data-ezding=\"ezding\" data-ga=\"['電影頁_時刻表', '電影頁_時刻表_場次', '蠟筆小新：謎案！天下春日部學院的怪奇事件']\" data-movie=\"9abd3b721e4f48cb9a9f96b51d468652\" data-movie_date=\"10.13\" data-movie_time=\"16:50\" data-movie_title=\"蠟筆小新：謎案！天下春日部學院的怪奇事件\" data-movie_type=\"\" data-session=\"b4271bf87ece49bd9a56b364dc622326\" data-time=\"1634115000\" id=\"75922850\" name=\"schedule_list\" type=\"radio\" value=\"2021-10-13 16:50:00\"/>\n",
      "<label class=\"select\" for=\"75922850\">16:50</label>\n",
      "</div>\n",
      "</li>\n",
      "</ul>, <ul class=\"area_time _c jq_area_time\" data-theater_name=\"台北信義威秀影城\" data-theater_schedules=\"https://movies.yahoo.com.tw/theater_result.html/id=45\" data-theater_url=\"http://www.vscinemas.com.tw/\" id=\"theater_id_45\">\n",
      "<li class=\"adds\">\n",
      "<a href=\"https://movies.yahoo.com.tw/theater_result.html/id=45\">台北信義威秀影城</a>\n",
      "<span>02-87805566</span>\n",
      "</li>\n",
      "<li class=\"taps\">\n",
      "<span class=\"tapR\">數位</span> <span class=\"tapB\">中文</span> </li>\n",
      "<li class=\"time _c\">\n",
      "<div class=\"input_picker jq_input_picker\">\n",
      "<input class=\"gabtn\" data-cinema=\"40288eb0050f542401050f554e7e0674\" data-date=\"1634054400\" data-ezding=\"ezding\" data-ga=\"['電影頁_時刻表', '電影頁_時刻表_場次', '蠟筆小新：謎案！天下春日部學院的怪奇事件']\" data-movie=\"afc134467fea4f8ea3facb7405e8623c\" data-movie_date=\"10.13\" data-movie_time=\"12:10\" data-movie_title=\"蠟筆小新：謎案！天下春日部學院的怪奇事件\" data-movie_type=\"數位\" data-session=\"e0f2d7683269452f978b4ae80883e3a1\" data-time=\"1634098200\" id=\"75919681\" name=\"schedule_list\" type=\"radio\" value=\"2021-10-13 12:10:00\"/>\n",
      "<label class=\"select\" for=\"75919681\">12:10</label>\n",
      "<input class=\"gabtn\" data-cinema=\"40288eb0050f542401050f554e7e0674\" data-date=\"1634054400\" data-ezding=\"ezding\" data-ga=\"['電影頁_時刻表', '電影頁_時刻表_場次', '蠟筆小新：謎案！天下春日部學院的怪奇事件']\" data-movie=\"afc134467fea4f8ea3facb7405e8623c\" data-movie_date=\"10.13\" data-movie_time=\"15:40\" data-movie_title=\"蠟筆小新：謎案！天下春日部學院的怪奇事件\" data-movie_type=\"數位\" data-session=\"b81defa984674a95bc08768f7237065b\" data-time=\"1634110800\" id=\"75919682\" name=\"schedule_list\" type=\"radio\" value=\"2021-10-13 15:40:00\"/>\n",
      "<label class=\"select\" for=\"75919682\">15:40</label>\n",
      "</div>\n",
      "</li>\n",
      "</ul>, <ul class=\"area_time _c jq_area_time\" data-theater_name=\"哈拉影城\" data-theater_schedules=\"https://movies.yahoo.com.tw/theater_result.html/id=50\" data-theater_url=\"\" id=\"theater_id_50\">\n",
      "<li class=\"adds\">\n",
      "<a href=\"https://movies.yahoo.com.tw/theater_result.html/id=50\">哈拉影城</a>\n",
      "<span>02-26322693</span>\n",
      "</li>\n",
      "<li class=\"taps\">\n",
      "<span class=\"tapR\">數位</span> <span class=\"tapB\">中文</span> </li>\n",
      "<li class=\"time _c\">\n",
      "<div class=\"input_picker jq_input_picker\">\n",
      "<input class=\"gabtn\" data-cinema=\"40288eb0050f542401050f5550201811\" data-date=\"1634054400\" data-ezding=\"ezding\" data-ga=\"['電影頁_時刻表', '電影頁_時刻表_場次', '蠟筆小新：謎案！天下春日部學院的怪奇事件']\" data-movie=\"82b6dfae9e97447d9d0d10f67fee9701\" data-movie_date=\"10.13\" data-movie_time=\"17:40\" data-movie_title=\"蠟筆小新：謎案！天下春日部學院的怪奇事件\" data-movie_type=\"數位\" data-session=\"3ae4862afc094ba786f5b5d9cc2f5cd7\" data-time=\"1634118000\" id=\"75905834\" name=\"schedule_list\" type=\"radio\" value=\"2021-10-13 17:40:00\"/>\n",
      "<label class=\"select\" for=\"75905834\">17:40</label>\n",
      "</div>\n",
      "</li>\n",
      "</ul>, <ul class=\"area_time _c jq_area_time\" data-theater_name=\"喜樂時代影城南港店\" data-theater_schedules=\"https://movies.yahoo.com.tw/theater_result.html/id=186\" data-theater_url=\"http://www.centuryasia.com.tw/default.aspx\" id=\"theater_id_186\">\n",
      "<li class=\"adds\">\n",
      "<a href=\"https://movies.yahoo.com.tw/theater_result.html/id=186\">喜樂時代影城南港店</a>\n",
      "<span>02-27888185</span>\n",
      "</li>\n",
      "<li class=\"taps\">\n",
      "<span class=\"tapR\">數位</span> <span class=\"tapB\">中文</span> </li>\n",
      "<li class=\"time _c\">\n",
      "<div class=\"input_picker jq_input_picker\">\n",
      "<input class=\"gabtn\" data-cinema=\"40288eb0050f542401050f5681782dc5\" data-date=\"1634054400\" data-ezding=\"ezding\" data-ga=\"['電影頁_時刻表', '電影頁_時刻表_場次', '蠟筆小新：謎案！天下春日部學院的怪奇事件']\" data-movie=\"83c59ad67e7b483fb6f765f5cd4ba6e2\" data-movie_date=\"10.13\" data-movie_time=\"11:15\" data-movie_title=\"蠟筆小新：謎案！天下春日部學院的怪奇事件\" data-movie_type=\"數位\" data-session=\"85612bae20da424985f2ca1e0b6cc25c\" data-time=\"1634094900\" id=\"75923127\" name=\"schedule_list\" type=\"radio\" value=\"2021-10-13 11:15:00\"/>\n",
      "<label class=\"select\" for=\"75923127\">11:15</label>\n",
      "<input class=\"gabtn\" data-cinema=\"40288eb0050f542401050f5681782dc5\" data-date=\"1634054400\" data-ezding=\"ezding\" data-ga=\"['電影頁_時刻表', '電影頁_時刻表_場次', '蠟筆小新：謎案！天下春日部學院的怪奇事件']\" data-movie=\"83c59ad67e7b483fb6f765f5cd4ba6e2\" data-movie_date=\"10.13\" data-movie_time=\"15:15\" data-movie_title=\"蠟筆小新：謎案！天下春日部學院的怪奇事件\" data-movie_type=\"數位\" data-session=\"26d14b34ec184e8aae3002e66635ceec\" data-time=\"1634109300\" id=\"75923129\" name=\"schedule_list\" type=\"radio\" value=\"2021-10-13 15:15:00\"/>\n",
      "<label class=\"select\" for=\"75923129\">15:15</label>\n",
      "</div>\n",
      "</li>\n",
      "<li class=\"taps\">\n",
      "<span class=\"tapR\">數位</span> </li>\n",
      "<li class=\"time _c\">\n",
      "<div class=\"input_picker jq_input_picker\">\n",
      "<input class=\"gabtn\" data-cinema=\"40288eb0050f542401050f5681782dc5\" data-date=\"1634054400\" data-ezding=\"ezding\" data-ga=\"['電影頁_時刻表', '電影頁_時刻表_場次', '蠟筆小新：謎案！天下春日部學院的怪奇事件']\" data-movie=\"d0c70ae81c9a48079af068ebef65a007\" data-movie_date=\"10.13\" data-movie_time=\"13:15\" data-movie_title=\"蠟筆小新：謎案！天下春日部學院的怪奇事件\" data-movie_type=\"數位\" data-session=\"0d092559421240ef86a74157eaec48ee\" data-time=\"1634102100\" id=\"75923128\" name=\"schedule_list\" type=\"radio\" value=\"2021-10-13 13:15:00\"/>\n",
      "<label class=\"select\" for=\"75923128\">13:15</label>\n",
      "<input class=\"gabtn\" data-cinema=\"40288eb0050f542401050f5681782dc5\" data-date=\"1634054400\" data-ezding=\"ezding\" data-ga=\"['電影頁_時刻表', '電影頁_時刻表_場次', '蠟筆小新：謎案！天下春日部學院的怪奇事件']\" data-movie=\"d0c70ae81c9a48079af068ebef65a007\" data-movie_date=\"10.13\" data-movie_time=\"17:15\" data-movie_title=\"蠟筆小新：謎案！天下春日部學院的怪奇事件\" data-movie_type=\"數位\" data-session=\"d103ac804b704fff997fa706eaff4ca8\" data-time=\"1634116500\" id=\"75923130\" name=\"schedule_list\" type=\"radio\" value=\"2021-10-13 17:15:00\"/>\n",
      "<label class=\"select\" for=\"75923130\">17:15</label>\n",
      "</div>\n",
      "</li>\n",
      "</ul>]\n"
     ]
    }
   ],
   "source": [
    "# 向網站發送請求，獲取上映的電影院及時間資訊\n",
    "url = \"https://movies.yahoo.com.tw/ajax/pc/get_schedule_by_movie\"\n",
    "payload = {'movie_id':str(movie_id),\n",
    "           'date':date,\n",
    "           'area_id':str(area_id),\n",
    "           'theater_id':'',\n",
    "           'datetime':'',\n",
    "           'movie_type_id':''}\n",
    "\n",
    "resp = requests.get(url, params=payload)\n",
    "#print(resp.json()['view'])  # 若有需要，列印出json原始碼\n",
    "\n",
    "soup = BeautifulSoup(resp.json()['view'], 'lxml')\n",
    "html = soup.find_all(\"ul\", attrs={'data-theater_name':re.compile(\".*\")})\n",
    "\n",
    "print(html)"
   ]
  },
  {
   "cell_type": "code",
   "execution_count": 21,
   "metadata": {},
   "outputs": [
    {
     "name": "stdout",
     "output_type": "stream",
     "text": [
      "------------------------------\n",
      "電影院名稱: 台北美麗華大直影城\n",
      "數位\n",
      "2021-10-13 09:10:00\n",
      "------------------------------\n",
      "電影院名稱: 喜滿客絕色影城\n",
      "數位\n",
      "2021-10-13 10:20:00\n",
      "未知\n",
      "2021-10-13 16:50:00\n",
      "------------------------------\n",
      "電影院名稱: 台北信義威秀影城\n",
      "數位\n",
      "2021-10-13 12:10:00\n",
      "數位\n",
      "2021-10-13 15:40:00\n",
      "------------------------------\n",
      "電影院名稱: 哈拉影城\n",
      "數位\n",
      "2021-10-13 17:40:00\n",
      "------------------------------\n",
      "電影院名稱: 喜樂時代影城南港店\n",
      "數位\n",
      "2021-10-13 11:15:00\n",
      "數位\n",
      "2021-10-13 15:15:00\n",
      "數位\n",
      "2021-10-13 13:15:00\n",
      "數位\n",
      "2021-10-13 17:15:00\n"
     ]
    }
   ],
   "source": [
    "#電影院名稱<a>、影片放映類型<span class=\"tapR\">以及時間表<input value>\n",
    "for d in html:\n",
    "    print('-'*30)\n",
    "    print('電影院名稱: ' + d.find('a').text)\n",
    "    for i in d.find_all('input'):\n",
    "        if i['data-movie_type'] != \"\":\n",
    "            print(i['data-movie_type'])\n",
    "        else:\n",
    "            print('未知')\n",
    "            \n",
    "        print(i['value'])\n"
   ]
  },
  {
   "cell_type": "code",
   "execution_count": null,
   "metadata": {},
   "outputs": [],
   "source": []
  }
 ],
 "metadata": {
  "kernelspec": {
   "display_name": "Python 3",
   "language": "python",
   "name": "python3"
  },
  "language_info": {
   "codemirror_mode": {
    "name": "ipython",
    "version": 3
   },
   "file_extension": ".py",
   "mimetype": "text/x-python",
   "name": "python",
   "nbconvert_exporter": "python",
   "pygments_lexer": "ipython3",
   "version": "3.8.8"
  }
 },
 "nbformat": 4,
 "nbformat_minor": 2
}
