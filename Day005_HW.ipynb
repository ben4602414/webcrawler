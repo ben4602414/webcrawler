{
 "cells": [
  {
   "cell_type": "markdown",
   "metadata": {},
   "source": [
    "# API 資料串接 - 以 Dcard API 實作範例\n",
    "\n",
    "* 了解 Dcard API 使用方式與回傳內容\n",
    "* 撰寫程式存取 API 且解析 JSON 格式資料\n"
   ]
  },
  {
   "cell_type": "markdown",
   "metadata": {},
   "source": [
    "## 作業目標\n",
    "\n",
    "* 請利用 API: https://www.dcard.tw/_api/forums/pet/posts?popular=true 回答下列問題：\n",
    "\n",
    "1. 這個 API 一次會回傳幾筆資料？每一筆資料包含哪些欄位？\n",
    "2. 取出每一筆資料的「標題」、「貼文時間」、「留言人數」、「按讚人數」\n",
    "3. 計算熱門/非熱門文章的「平均留言人數」與「平均按讚人數」"
   ]
  },
  {
   "cell_type": "code",
   "execution_count": 26,
   "metadata": {},
   "outputs": [
    {
     "name": "stdout",
     "output_type": "stream",
     "text": [
      "一次回傳30筆資料\n",
      "包含以下欄位：\n",
      "id, title, excerpt, anonymousSchool, anonymousDepartment, pinned, forumId, replyId, createdAt, updatedAt, commentCount, likeCount, withNickname, tags, topics, meta, forumName, forumAlias, nsfw, gender, school, department, replyTitle, mediaMeta, reactions, hidden, customStyle, isSuspiciousAccount, isModerator, layout, spoilerAlert, totalCommentCount, withImages, withVideos, media, reportReasonText, excerptComments, postAvatar, activityAvatar, verifiedBadge, memberType, "
     ]
    }
   ],
   "source": [
    "# 1. 這個 API 一次會回傳幾筆資料？每一筆資料包含哪些欄位？\n",
    "\n",
    "import requests\n",
    "import json\n",
    "\n",
    "headers = {'User-Agent': 'Mozilla/5.0 (Macintosh; Intel Mac OS X 10_15_7) AppleWebKit/605.1.15 (KHTML, like Gecko) Version/14.1.1 Safari/605.1.15'}\n",
    "r = requests.get('https://www.dcard.tw/_api/forums/pet/posts?popular=true', headers = headers)\n",
    "response = r.text\n",
    "\n",
    "data = json.loads(response)\n",
    "\n",
    "count = len(data)\n",
    "tags = data[0].keys()\n",
    "print(\"一次回傳\" + str(count) + \"筆資料\")\n",
    "print(\"包含以下欄位：\")\n",
    "for tag in tags: \n",
    "    print(str(tag), end = \", \")\n",
    "        "
   ]
  },
  {
   "cell_type": "code",
   "execution_count": 42,
   "metadata": {},
   "outputs": [
    {
     "name": "stdout",
     "output_type": "stream",
     "text": [
      "標題：一大早被偷看, 貼文時間：2021-09-08T01:45:47.744Z, 留言人數：47, 按讚人數：1125\n",
      "標題：真的覺得我姐的貓很可憐, 貼文時間：2021-09-07T10:09:48.979Z, 留言人數：48, 按讚人數：552\n",
      "標題：這舌頭長度破紀錄了吧..., 貼文時間：2021-09-08T03:33:58.937Z, 留言人數：34, 按讚人數：325\n",
      "標題：原來貓咪生氣長這樣（更）, 貼文時間：2021-09-08T12:30:20.629Z, 留言人數：28, 按讚人數：237\n",
      "標題：真的好愛我的貓貓, 貼文時間：2021-09-07T17:13:28.672Z, 留言人數：25, 按讚人數：174\n",
      "標題：我認識的第一隻很喜歡洗頭ㄉ貓, 貼文時間：2021-09-07T12:38:33.054Z, 留言人數：9, 按讚人數：144\n",
      "標題：#更新#澄清 #文長 台中霧峰某寵物店, 貼文時間：2021-09-08T06:35:26.346Z, 留言人數：45, 按讚人數：133\n",
      "標題：看到新拖鞋炸毛的松鼠貓, 貼文時間：2021-09-07T17:03:25.962Z, 留言人數：4, 按讚人數：126\n",
      "標題：美短可愛貓貓成長史🐱, 貼文時間：2021-09-08T10:30:38.380Z, 留言人數：18, 按讚人數：121\n",
      "標題：這就是那15隻兇手, 貼文時間：2021-09-08T06:35:26.338Z, 留言人數：13, 按讚人數：120\n",
      "標題：小貓愛撞來撞去⋯, 貼文時間：2021-09-08T03:43:14.340Z, 留言人數：16, 按讚人數：113\n",
      "標題：凡事一個緣, 貼文時間：2021-09-07T15:55:29.928Z, 留言人數：7, 按讚人數：90\n",
      "標題：抗癌｜貓咪10歲確診淋巴腫瘤，從發現到化療過程分享, 貼文時間：2021-09-08T05:19:42.383Z, 留言人數：6, 按讚人數：39\n",
      "標題：我家最近多了隻老媽子, 貼文時間：2021-09-07T21:00:58.713Z, 留言人數：1, 按讚人數：36\n",
      "標題：你們家的柴柴個性如何？, 貼文時間：2021-09-07T13:34:24.828Z, 留言人數：10, 按讚人數：35\n",
      "標題：這算虐狗吧？！！！！！, 貼文時間：2021-09-08T09:11:17.056Z, 留言人數：24, 按讚人數：31\n",
      "標題：#黑特 龍潭人人動物醫院一點都不仁 (內有糞便照), 貼文時間：2021-09-08T13:42:01.770Z, 留言人數：6, 按讚人數：30\n",
      "標題：小爽貓🐱, 貼文時間：2021-09-08T08:02:44.631Z, 留言人數：1, 按讚人數：30\n",
      "標題：沈浸式呼嚕聲☀️☀️☀️☀️☀️☀️☀️, 貼文時間：2021-09-08T10:07:37.564Z, 留言人數：10, 按讚人數：28\n",
      "標題：曼赤肯短腿貓, 貼文時間：2021-09-08T08:16:24.275Z, 留言人數：5, 按讚人數：26\n",
      "標題：朕的江山, 貼文時間：2021-09-08T03:59:53.334Z, 留言人數：1, 按讚人數：23\n",
      "標題：70隻天竺鼠遭棄養, 貼文時間：2021-09-07T11:47:32.604Z, 留言人數：5, 按讚人數：23\n",
      "標題：孩子的教育不能等，喵星人的第二語言「汪汪！」, 貼文時間：2021-09-07T11:37:58.641Z, 留言人數：4, 按讚人數：22\n",
      "標題：求救 新舊貓打架問題, 貼文時間：2021-09-08T03:27:56.781Z, 留言人數：13, 按讚人數：20\n",
      "標題：貓跳台要多高比較好, 貼文時間：2021-09-08T01:10:07.740Z, 留言人數：10, 按讚人數：18\n",
      "標題：你在看我的蛋蛋！？🥚🥚, 貼文時間：2021-09-08T08:28:37.494Z, 留言人數：2, 按讚人數：17\n",
      "標題：自製簡易村姑小貓, 貼文時間：2021-09-07T12:20:47.367Z, 留言人數：0, 按讚人數：16\n",
      "標題：貓咪只要ㄧ吃罐頭就吐 有解嗎🥲, 貼文時間：2021-09-07T09:04:32.793Z, 留言人數：20, 按讚人數：16\n",
      "標題：國內首例本土「兔熱病」確診 敗血症死亡率可達6成, 貼文時間：2021-09-07T12:01:23.696Z, 留言人數：3, 按讚人數：15\n",
      "標題：重視浪浪議題：犬貓疾病直接、間接滅絕野生動物, 貼文時間：2021-09-08T12:12:10.550Z, 留言人數：2, 按讚人數：14\n"
     ]
    }
   ],
   "source": [
    "# 2. 取出每一筆資料的「標題」、「貼文時間」、「留言人數」、「按讚人數」\n",
    "#title, createdAt, commentCount, likeCount\n",
    "for d in data:\n",
    "    print(\"標題：\" + str(d['title']), end=\"\")\n",
    "    print(\", 貼文時間：\" + str(d['createdAt']), end=\"\")\n",
    "    print(\", 留言人數：\" + str(d['commentCount']), end=\"\")\n",
    "    print(\", 按讚人數：\" + str(d['likeCount']))\n"
   ]
  },
  {
   "cell_type": "code",
   "execution_count": 45,
   "metadata": {},
   "outputs": [
    {
     "name": "stdout",
     "output_type": "stream",
     "text": [
      "熱門文章的平均留言人數：13.9\n",
      "熱門文章的平均按讚人數：123.3\n",
      "非熱門文章的平均留言人數：3.1666666666666665\n",
      "非熱門文章的平均按讚人數：12.633333333333333\n"
     ]
    }
   ],
   "source": [
    "# 3. 計算熱門/非熱門文章的「平均留言人數」與「平均按讚人數」\n",
    "#熱門\n",
    "popular_comment = 0\n",
    "popular_like = 0\n",
    "\n",
    "for d in data:\n",
    "    popular_comment += int(d['commentCount'])\n",
    "    popular_like += int(d['likeCount'])\n",
    "\n",
    "print(\"熱門文章的平均留言人數：{}\".format(popular_comment/len(data)))\n",
    "print(\"熱門文章的平均按讚人數：{}\".format(popular_like/len(data)))\n",
    "\n",
    "#非熱門\n",
    "unpopular_r = requests.get('https://www.dcard.tw/_api/forums/pet/posts?popular=false', headers = headers)\n",
    "unpopular_data = json.loads(unpopular_r.text)\n",
    "\n",
    "unpopular_comment = 0\n",
    "unpopular_like = 0\n",
    "\n",
    "for d in unpopular_data:\n",
    "    unpopular_comment += int(d['commentCount'])\n",
    "    unpopular_like += int(d['likeCount'])\n",
    "\n",
    "print(\"非熱門文章的平均留言人數：{}\".format(unpopular_comment/len(unpopular_data)))\n",
    "print(\"非熱門文章的平均按讚人數：{}\".format(unpopular_like/len(unpopular_data)))"
   ]
  },
  {
   "cell_type": "code",
   "execution_count": null,
   "metadata": {},
   "outputs": [],
   "source": []
  },
  {
   "cell_type": "code",
   "execution_count": null,
   "metadata": {},
   "outputs": [],
   "source": []
  }
 ],
 "metadata": {
  "kernelspec": {
   "display_name": "Python 3",
   "language": "python",
   "name": "python3"
  },
  "language_info": {
   "codemirror_mode": {
    "name": "ipython",
    "version": 3
   },
   "file_extension": ".py",
   "mimetype": "text/x-python",
   "name": "python",
   "nbconvert_exporter": "python",
   "pygments_lexer": "ipython3",
   "version": "3.8.8"
  }
 },
 "nbformat": 4,
 "nbformat_minor": 2
}
