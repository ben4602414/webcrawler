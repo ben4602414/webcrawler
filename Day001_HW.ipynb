{
 "cells": [
  {
   "cell_type": "markdown",
   "id": "eea10e18",
   "metadata": {},
   "source": [
    "Ｑ：檔案、API、爬蟲三種取得資料方式有什麼不同？\n",
    "\n",
    "Ａ：\n",
    "1. 檔案\n",
    "資料會包成檔案提供下載，格式可能包含常用的標準格式，例如「CSV」、「JSON」等等通用的格式。\n",
    "\n",
    "2. 開放接口（API）\n",
    "提供程式化的連接的接口，讓工程師/分析師可以選擇資料中要讀取的特定部分，而不需要把整批資料事先完整下載回來\n",
    "\n",
    "3. 網頁爬蟲\n",
    "資料沒有以檔案或 API 提供，但出現在網頁上。可以利用爬蟲爬蟲程式，將網頁的資料解析所需的部分。"
   ]
  },
  {
   "cell_type": "code",
   "execution_count": 3,
   "id": "256e0c5d",
   "metadata": {
    "scrolled": true
   },
   "outputs": [
    {
     "data": {
      "text/plain": [
       "('Homework.txt', <http.client.HTTPMessage at 0x7fa77c38fe20>)"
      ]
     },
     "execution_count": 3,
     "metadata": {},
     "output_type": "execute_result"
    }
   ],
   "source": [
    "#Download txt\n",
    "from urllib.request import urlretrieve\n",
    "\n",
    "urlretrieve(\"https://www.w3.org/TR/PNG/iso_8859-1.txt\", \"Homework.txt\")"
   ]
  },
  {
   "cell_type": "code",
   "execution_count": 8,
   "id": "5b3e101b",
   "metadata": {},
   "outputs": [
    {
     "name": "stdout",
     "output_type": "stream",
     "text": [
      "/Users/ben/webcrawler/Homework.txt檔案存在\n"
     ]
    }
   ],
   "source": [
    "#Check wheater txt is downloaded in the specific repository\n",
    "import os\n",
    "\n",
    "cwd = os.getcwd()\n",
    "target_file = cwd + \"/\" +\"Homework.txt\"\n",
    "\n",
    "try:\n",
    "    file = open(target_file)\n",
    "except FileNotFoundError:\n",
    "    print(target_file + '不存在')\n",
    "except PermissionError:\n",
    "    print(target_file + '不是檔案')\n",
    "else:\n",
    "    print(target_file + '檔案存在')\n",
    "    file.close()"
   ]
  },
  {
   "cell_type": "code",
   "execution_count": 14,
   "id": "e2473003",
   "metadata": {},
   "outputs": [],
   "source": [
    "#Write \"Hello World\" in Homework.txt\n",
    "with open(\"Homework.txt\", \"w\") as hw:\n",
    "    hw.write(\"Hello World\")"
   ]
  },
  {
   "cell_type": "code",
   "execution_count": 17,
   "id": "764f4cda",
   "metadata": {},
   "outputs": [
    {
     "name": "stdout",
     "output_type": "stream",
     "text": [
      "內容正確\n"
     ]
    }
   ],
   "source": [
    "#Check the words of length in txt wheater matched \"Hello World\"\n",
    "with open(\"Homework.txt\", \"r\") as hw:\n",
    "    content = hw.read()\n",
    "    if len(content) == len(\"Hello World\"):\n",
    "        print(\"內容正確\")\n",
    "    else:\n",
    "        print(\"內容不符\")"
   ]
  },
  {
   "cell_type": "code",
   "execution_count": null,
   "id": "323e8581",
   "metadata": {},
   "outputs": [],
   "source": []
  }
 ],
 "metadata": {
  "kernelspec": {
   "display_name": "Python 3",
   "language": "python",
   "name": "python3"
  },
  "language_info": {
   "codemirror_mode": {
    "name": "ipython",
    "version": 3
   },
   "file_extension": ".py",
   "mimetype": "text/x-python",
   "name": "python",
   "nbconvert_exporter": "python",
   "pygments_lexer": "ipython3",
   "version": "3.8.8"
  }
 },
 "nbformat": 4,
 "nbformat_minor": 5
}
